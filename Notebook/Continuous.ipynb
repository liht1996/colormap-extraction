{
 "cells": [
  {
   "cell_type": "code",
   "execution_count": 1,
   "metadata": {},
   "outputs": [],
   "source": [
    "import cv2\n",
    "import numpy as np\n",
    "from matplotlib import pyplot as plt\n",
    "%matplotlib inline "
   ]
  },
  {
   "cell_type": "code",
   "execution_count": 2,
   "metadata": {},
   "outputs": [],
   "source": [
    "import os\n",
    "\n",
    "charts_path = \"Data/chart/seen_continuous/\"\n",
    "output_path = \"Output/seen/\"\n",
    "\n",
    "list_chart = [i for i in os.listdir(charts_path) if i not in ['no_legend', '.DS_Store', 'useless']]"
   ]
  },
  {
   "cell_type": "code",
   "execution_count": 3,
   "metadata": {},
   "outputs": [],
   "source": [
    "def find_most_frequent_color(img):\n",
    "    data = np.reshape(img, (-1,3))\n",
    "    dict_count = {}\n",
    "\n",
    "    for i in range(data.shape[0]):\n",
    "        if str(data[i,:].tolist()) not in dict_count.keys():\n",
    "            dict_count[str(data[i,:].tolist())] = 1\n",
    "        else:\n",
    "            dict_count[str(data[i,:].tolist())] += 1\n",
    "            \n",
    "    color_str = sorted(dict_count.items(), key=lambda x:x[1], reverse=1)[0][0]\n",
    "    return np.fromstring(color_str[1:-1], dtype=int, sep=',')\n",
    "\n"
   ]
  },
  {
   "cell_type": "code",
   "execution_count": 4,
   "metadata": {},
   "outputs": [],
   "source": [
    "def mask_img(img, mfc, T_bg=5):\n",
    "    \n",
    "    mask = np.ones((img.shape[0], img.shape[1]), dtype='uint8')\n",
    "\n",
    "    for i in range(img.shape[0]):\n",
    "        for j in range(img.shape[1]):\n",
    "        # mask for background\n",
    "            if np.max(abs(img[i,j]-mfc)) <= T_bg:\n",
    "                img[i,j] = [255,128,128]\n",
    "                mask[i,j] = 0    \n",
    "    \n",
    "    return img, mask"
   ]
  },
  {
   "cell_type": "code",
   "execution_count": 5,
   "metadata": {},
   "outputs": [],
   "source": [
    "def binarize(img):\n",
    "    img_gray = cv2.cvtColor(cv2.cvtColor(img, cv2.COLOR_LAB2BGR), cv2.COLOR_BGR2GRAY).reshape(-1,)\n",
    "    mask_above_127 = (img_gray > 127)\n",
    "    mask_below_127 = (img_gray <= 127)\n",
    "    img_gray[mask_above_127] = 0\n",
    "    img_gray[mask_below_127] = 1\n",
    "    \n",
    "    return img_gray.reshape((img.shape[0], img.shape[1]))"
   ]
  },
  {
   "cell_type": "code",
   "execution_count": 6,
   "metadata": {},
   "outputs": [],
   "source": [
    "# we may not\n",
    "def flood_fill(img, seed_point=(20, 100)):\n",
    "    return cv2.floodFill(img, None, seed_point, 1)[1]"
   ]
  },
  {
   "cell_type": "code",
   "execution_count": 7,
   "metadata": {},
   "outputs": [],
   "source": [
    "def erode(img, kernel_size=5, iteration=1):\n",
    "    kernel = np.ones((kernel_size, kernel_size), np.uint8)\n",
    "    img_eroded = cv2.erode(img, kernel, iterations = iteration)\n",
    "    return img_eroded"
   ]
  },
  {
   "cell_type": "code",
   "execution_count": 8,
   "metadata": {},
   "outputs": [],
   "source": [
    "def imshow_components(labels):\n",
    "    # Map component labels to hue val\n",
    "    label_hue = np.uint8(179*labels/np.max(labels))\n",
    "    blank_ch = 255*np.ones_like(label_hue)\n",
    "    labeled_img = cv2.merge([label_hue, blank_ch, blank_ch])\n",
    "\n",
    "    # cvt to BGR for display\n",
    "    labeled_img = cv2.cvtColor(labeled_img, cv2.COLOR_LAB2BGR)\n",
    "\n",
    "    # set bg label to black\n",
    "    labeled_img[label_hue==0] = 0\n",
    "\n",
    "    plt.imshow(labeled_img, cmap='gray', vmin=0, vmax=1)\n",
    "    plt.axis('off')\n",
    "    plt.show()\n",
    "#     cv2.waitKey()\n",
    "\n",
    "# imshow_components(labels_im)"
   ]
  },
  {
   "cell_type": "code",
   "execution_count": 9,
   "metadata": {},
   "outputs": [],
   "source": [
    "def find_largest_connected_component(img):\n",
    "    num_labels, labels = cv2.connectedComponents(img)\n",
    "    dict_area = {}\n",
    "    for i in range(num_labels):\n",
    "        dict_area[i] = area_i = np.sum(labels == i)\n",
    "                  \n",
    "    return sorted(dict_area.items(), key=lambda x:x[1], reverse=1)[1][0], labels"
   ]
  },
  {
   "cell_type": "code",
   "execution_count": 10,
   "metadata": {},
   "outputs": [],
   "source": [
    "def get_colors(img, idx, labels):\n",
    "    positions = np.argwhere(labels==idx)\n",
    "    position_lefttop = positions[0,:]\n",
    "    position_rightbottom = positions[-1,:]\n",
    "    \n",
    "    # width <= height\n",
    "    if (position_lefttop[0]-position_rightbottom[0]) <= (position_lefttop[1]-position_rightbottom[1]):\n",
    "        # most_top_color, most_bottom_color\n",
    "        return [img[position_lefttop[0], int((position_lefttop[1]+position_rightbottom[1])/2)], \\\n",
    "                img[position_rightbottom[0], int((position_lefttop[1]+position_rightbottom[1])/2)]]\n",
    "    else:\n",
    "        return [img[int((position_lefttop[0]+position_rightbottom[0])/2), position_lefttop[1]], \\\n",
    "                img[int((position_lefttop[1]+position_rightbottom[1])/2), position_lefttop[0]]]"
   ]
  },
  {
   "cell_type": "code",
   "execution_count": 11,
   "metadata": {},
   "outputs": [],
   "source": [
    "def plot_color(colors):\n",
    "    color_matrices = []\n",
    "    for i in colors:\n",
    "        color_matrices.append(np.full((20, 20, 3), i.tolist(), dtype='uint8'))\n",
    "        \n",
    "    img = np.concatenate(color_matrices, axis=1)\n",
    "    plt.imshow(cv2.cvtColor(img, cv2.COLOR_LAB2RGB))\n",
    "    plt.axis('off')\n",
    "    plt.show()   \n",
    "    \n",
    "#     return img"
   ]
  },
  {
   "cell_type": "code",
   "execution_count": 12,
   "metadata": {},
   "outputs": [],
   "source": [
    "def get_area_plot_and_save(img, idx, labels, output_path, chart_name):\n",
    "    positions = np.argwhere(labels==idx)\n",
    "    position_lefttop = positions[0,:]\n",
    "    position_rightbottom = positions[-1,:]\n",
    "    \n",
    "    area = img[position_lefttop[0]:position_rightbottom[0], position_lefttop[1]:position_rightbottom[1], :]\n",
    "    \n",
    "    try:\n",
    "        cv2.imwrite(output_path+chart_name,cv2.cvtColor(area, cv2.COLOR_LAB2BGR))\n",
    "    except:\n",
    "        return\n",
    "    \n",
    "#     plt.imshow(cv2.cvtColor(area, cv2.COLOR_LAB2RGB))\n",
    "#     plt.axis('off')\n",
    "#     plt.show() \n",
    "    \n",
    "#     return cv2.imwrite(output_path+chart_name,cv2.cvtColor(area, cv2.COLOR_LAB2BGR))"
   ]
  },
  {
   "cell_type": "code",
   "execution_count": 13,
   "metadata": {},
   "outputs": [],
   "source": [
    "def get_result(charts_path, output_path, chart_name):\n",
    "    \n",
    "    \n",
    "#     best_seed_point = (0, 0)\n",
    "#     largest_area = 0\n",
    "    \n",
    "#     for i in range(0, img_lab.shape[1], 10):\n",
    "#         for j in range(0, img_lab.shape[0], 10):\n",
    "#     sp = (i, j)\n",
    "\n",
    "    previous_pos_lt = []\n",
    "    previous_pos_rb = []\n",
    "    \n",
    "    dict_pos_lt = {}\n",
    "    dict_pos_rb = {}\n",
    "\n",
    "    for k in range(10, 100, 10):\n",
    "        for p in range(10, 100, 10):\n",
    "            try:\n",
    "#                 print((int(img_lab.shape[1]*(k/100.0)), int(img_lab.shape[0]*(p/100.0))))\n",
    "                img_bgr = cv2.imread(charts_path+chart_name, cv2.IMREAD_COLOR) \n",
    "                img_lab = cv2.cvtColor(img_bgr, cv2.COLOR_BGR2LAB)\n",
    "                mfc = find_most_frequent_color(img_lab)\n",
    "                masked_img_lab,mask = mask_img(img_lab, mfc, T_bg=0)\n",
    "                img_binary = binarize(masked_img_lab)\n",
    "                img_filled = flood_fill(img_binary, seed_point=(int(img_lab.shape[1]*(k/100.0)), int(img_lab.shape[0]*(p/100.0))))\n",
    "                img_eroded = erode(img_filled, kernel_size=5)\n",
    "#                 num_labels, labels_im = cv2.connectedComponents(img_eroded)\n",
    "                idx, labels = find_largest_connected_component(img_eroded)\n",
    "                n = chart_name.split(\".\")[0]+f\"_{k}_{p}.png\"\n",
    "                positions = np.argwhere(labels==idx)\n",
    "                position_lefttop = positions[0,:]\n",
    "                position_rightbottom = positions[-1,:]\n",
    "                \n",
    "#                 print(position_lefttop, position_rightbottom)\n",
    "\n",
    "                if not list(position_lefttop) in previous_pos_lt or\\\n",
    "                not list(position_rightbottom) in previous_pos_rb:\n",
    "                    previous_pos_lt.append(list(position_lefttop))\n",
    "                    previous_pos_rb.append(list(position_rightbottom))\n",
    "                    get_area_plot_and_save(img_lab, idx, labels, output_path, n)\n",
    "                    dict_pos_lt[f\"{k}_{p}\"] = list(position_lefttop)\n",
    "                    dict_pos_rb[f\"{k}_{p}\"] = list(position_rightbottom)\n",
    "            except:\n",
    "                print(chart_name, k, p)\n",
    "                \n",
    "    return {\n",
    "        \"lt\": dict_pos_lt,\n",
    "        \"rb\": dict_pos_rb\n",
    "    }\n",
    "                \n",
    "\n",
    "#     for k in range(2,5):\n",
    "#         for p in range(2,5):\n",
    "#             try:\n",
    "# #                 print((int(img_lab.shape[1]/k), int(img_lab.shape[0]/p)))\n",
    "#                 img_filled = flood_fill(img_binary, seed_point=(int(img_lab.shape[1]/k), int(img_lab.shape[0]/p)))\n",
    "#                 img_eroded = erode(img_filled, kernel_size=5)\n",
    "# #                 num_labels, labels_im = cv2.connectedComponents(img_eroded)\n",
    "#                 idx, labels = find_largest_connected_component(img_eroded)\n",
    "#                 n = chart_name.split(\".\")[0]+f\"_{k}_{p}.png\"\n",
    "#                 positions = np.argwhere(labels==idx)\n",
    "#                 position_lefttop = positions[0,:]\n",
    "#                 position_rightbottom = positions[-1,:]\n",
    "#                 print(position_lefttop, position_rightbottom)\n",
    "    \n",
    "#                 if not np.array_equal(position_lefttop, previous_pos_lt) or\\\n",
    "#                 not np.array_equal(position_rightbottom, previous_pos_rb):\n",
    "#                     previous_pos_lt = position_lefttop\n",
    "#                     previous_pos_rb = position_rightbottom\n",
    "                \n",
    "#                 get_area_plot_and_save(img_lab, idx, labels, output_path, n)\n",
    "#             except:\n",
    "#                 print(chart_name, k, p)\n",
    "\n",
    "\n",
    "\n",
    "#     positions = np.argwhere(labels==idx)\n",
    "#     position_lefttop = positions[0,:]\n",
    "#     position_rightbottom = positions[-1,:]\n",
    "\n",
    "#     area = abs((position_lefttop[0]-position_rightbottom[0])*(position_lefttop[1]-position_rightbottom[1]))\n",
    "\n",
    "#     if area > largest_area:\n",
    "#         n = chart_name.split(\".\")[0]+f\"({i} {j}).png\"\n",
    "#         largest_area = area\n",
    "#         best_seed_point = sp\n",
    "#         print(n)\n",
    "#         get_area_plot_and_save(img_lab, idx, labels, output_path, n)\n",
    "\n",
    "                "
   ]
  },
  {
   "cell_type": "code",
   "execution_count": 14,
   "metadata": {},
   "outputs": [],
   "source": [
    "from tqdm import tqdm"
   ]
  },
  {
   "cell_type": "code",
   "execution_count": 15,
   "metadata": {},
   "outputs": [
    {
     "name": "stderr",
     "output_type": "stream",
     "text": [
      " 80%|████████  | 16/20 [06:30<02:34, 38.71s/it]"
     ]
    },
    {
     "name": "stdout",
     "output_type": "stream",
     "text": [
      "C2.png 10 10\n",
      "C2.png 10 20\n",
      "C2.png 10 30\n",
      "C2.png 10 40\n",
      "C2.png 20 10\n",
      "C2.png 20 20\n",
      "C2.png 20 30\n",
      "C2.png 20 40\n",
      "C2.png 30 10\n",
      "C2.png 30 20\n",
      "C2.png 30 30\n",
      "C2.png 30 40\n",
      "C2.png 40 10\n",
      "C2.png 40 20\n",
      "C2.png 40 30\n",
      "C2.png 40 40\n",
      "C2.png 50 10\n",
      "C2.png 50 20\n",
      "C2.png 50 30\n",
      "C2.png 50 40\n",
      "C2.png 60 10\n",
      "C2.png 60 20\n",
      "C2.png 60 30\n",
      "C2.png 60 40\n",
      "C2.png 70 10\n",
      "C2.png 70 20\n",
      "C2.png 70 30\n",
      "C2.png 70 40\n",
      "C2.png 70 50\n",
      "C2.png 70 60\n",
      "C2.png 70 70\n",
      "C2.png 70 80\n",
      "C2.png 70 90\n",
      "C2.png 80 10\n",
      "C2.png 80 20\n",
      "C2.png 80 30\n",
      "C2.png 80 40\n",
      "C2.png 80 50\n",
      "C2.png 80 60\n",
      "C2.png 80 70\n",
      "C2.png 80 80\n",
      "C2.png 80 90\n",
      "C2.png 90 10\n",
      "C2.png 90 20\n",
      "C2.png 90 30\n",
      "C2.png 90 50\n",
      "C2.png 90 70\n"
     ]
    },
    {
     "name": "stderr",
     "output_type": "stream",
     "text": [
      "\r",
      " 85%|████████▌ | 17/20 [06:43<01:32, 30.97s/it]"
     ]
    },
    {
     "name": "stdout",
     "output_type": "stream",
     "text": [
      "C2.png 90 90\n"
     ]
    },
    {
     "name": "stderr",
     "output_type": "stream",
     "text": [
      "100%|██████████| 20/20 [07:56<00:00, 23.84s/it]\n"
     ]
    }
   ],
   "source": [
    "dict_point = {}\n",
    "\n",
    "for i in tqdm(list_chart):\n",
    "    dict_point[i.split(\".\")[0]] = get_result(charts_path, output_path, i)"
   ]
  }
 ],
 "metadata": {
  "kernelspec": {
   "display_name": "Python 3",
   "language": "python",
   "name": "python3"
  },
  "language_info": {
   "codemirror_mode": {
    "name": "ipython",
    "version": 3
   },
   "file_extension": ".py",
   "mimetype": "text/x-python",
   "name": "python",
   "nbconvert_exporter": "python",
   "pygments_lexer": "ipython3",
   "version": "3.7.4"
  }
 },
 "nbformat": 4,
 "nbformat_minor": 2
}
